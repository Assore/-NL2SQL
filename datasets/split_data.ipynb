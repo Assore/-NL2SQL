{
 "cells": [
  {
   "cell_type": "code",
   "execution_count": 1,
   "outputs": [],
   "source": [
    "from transformers import BertTokenizer, BertModel\n",
    "import torch\n",
    "import json\n",
    "import re\n",
    "# tokenizer = BertTokenizer.from_pretrained(\"bert-base-chinese\")\n",
    "# model = BertModel.from_pretrained(\"bert-base-chinese\")"
   ],
   "metadata": {
    "collapsed": false,
    "pycharm": {
     "name": "#%%\n"
    }
   }
  },
  {
   "cell_type": "code",
   "execution_count": 6,
   "outputs": [],
   "source": [
    "with open('test.json','r',encoding='utf-8') as file:\n",
    "    fp=open('query-test.txt','w',encoding='utf-8')\n",
    "    datas=json.load(file)\n",
    "    ops=[]\n",
    "    for data in datas:\n",
    "        str1=data['text']+'\\n'\n",
    "        fp.write(str1)\n",
    "\n"
   ],
   "metadata": {
    "collapsed": false,
    "pycharm": {
     "name": "#%%\n"
    }
   }
  },
  {
   "cell_type": "code",
   "execution_count": 4,
   "outputs": [
    {
     "name": "stdout",
     "output_type": "stream",
     "text": [
      "['<=', '=', 'other', '<', '>', '!=', '>=', 'in', 'not in']\n"
     ]
    }
   ],
   "source": [
    "import json\n",
    "with open('val.json','r',encoding='utf-8') as file:\n",
    "    datas=json.load(file)\n",
    "    ops=[]\n",
    "    for data in datas:\n",
    "        entities=data['entities']\n",
    "        for e in entities:\n",
    "            op=e['op']\n",
    "            if op not in ops:\n",
    "                ops.append(op)\n",
    "    print(ops)\n",
    "\n",
    "\n"
   ],
   "metadata": {
    "collapsed": false,
    "pycharm": {
     "name": "#%%\n"
    }
   }
  },
  {
   "cell_type": "code",
   "execution_count": 9,
   "outputs": [],
   "source": [
    "import json\n",
    "import codecs\n",
    "test_r=0.1\n",
    "val_r=0.1\n",
    "\n",
    "with open('traindata-details-v1.json','r',encoding='utf-8') as file:\n",
    "    datas=json.load(file)\n",
    "    for data in datas:\n",
    "        if data['agg']==None:\n",
    "            data['agg']=\"other\"\n",
    "        entities=data['entities']\n",
    "        for e in entities:\n",
    "            if e['op']==None:\n",
    "                e['op']=\"other\"\n",
    "    datas_len=len(datas)\n",
    "    test_l=int(datas_len*test_r)\n",
    "    val_l=int(datas_len*val_r)\n",
    "\n",
    "\n",
    "    test=datas[0:test_l]\n",
    "    val=datas[test_l:test_l+val_l]\n",
    "    train=datas[test_l+val_l:]\n",
    "\n",
    "\n",
    "with codecs.open('test.json','w', 'utf-8') as outf:\n",
    "    json.dump(test, outf, ensure_ascii=False)\n",
    "    outf.write('\\n')\n",
    "    outf.close()\n",
    "\n",
    "with codecs.open('val.json','w', 'utf-8') as outf:\n",
    "    json.dump(val, outf, ensure_ascii=False)\n",
    "    outf.write('\\n')\n",
    "    outf.close()\n",
    "\n",
    "with codecs.open('train.json','w', 'utf-8') as outf:\n",
    "    json.dump(train, outf, ensure_ascii=False)\n",
    "    outf.write('\\n')\n",
    "    outf.close()\n",
    "\n",
    "with open('test.txt','w',encoding='utf-8') as f:\n",
    "    for data in test:\n",
    "        f.write(data['text']+'\\n')"
   ],
   "metadata": {
    "collapsed": false,
    "pycharm": {
     "name": "#%%\n"
    }
   }
  },
  {
   "cell_type": "code",
   "execution_count": 7,
   "outputs": [
    {
     "name": "stdout",
     "output_type": "stream",
     "text": [
      "{'id': 1, 'text_expansions': [], 'text': '二级分类为家用医疗的产品数量有多少', 'agg': 'count', 'entities': [{'start': 0, 'end': 9, 'text': '二级分类为家用医疗', 'type': 'condition', 'column': '二级分类', 'value': '家用医疗', 'op': '='}]}\n"
     ]
    }
   ],
   "source": [
    "def read_data(filename,tokenizer=None,max_len=128):\n",
    "    token_list=[]\n",
    "    tags=[]\n",
    "    with open(filename,'r',encoding='utf-8') as file:\n",
    "        data=json.load(file)\n",
    "        text=data['text']\n",
    "        agg=data['agg']\n",
    "        tokens=tokenizer.tokenize(text)\n",
    "        token_list.append(tokens)\n",
    "        tags.append(agg)"
   ],
   "metadata": {
    "collapsed": false,
    "pycharm": {
     "name": "#%%\n"
    }
   }
  },
  {
   "cell_type": "code",
   "execution_count": 13,
   "outputs": [],
   "source": [
    "def get_tag2idx(file):\n",
    "    with open(file, 'r', encoding='utf-8') as f_in:\n",
    "        tagset = re.split(r'\\s+', f_in.read().strip())\n",
    "    return dict((tag, idx) for idx, tag in enumerate(tagset))"
   ],
   "metadata": {
    "collapsed": false,
    "pycharm": {
     "name": "#%%\n"
    }
   }
  },
  {
   "cell_type": "code",
   "execution_count": 10,
   "outputs": [
    {
     "name": "stdout",
     "output_type": "stream",
     "text": [
      "count\n"
     ]
    }
   ],
   "source": [
    "for d in data:\n",
    "    print(d['agg'])\n",
    "    break"
   ],
   "metadata": {
    "collapsed": false,
    "pycharm": {
     "name": "#%%\n"
    }
   }
  },
  {
   "cell_type": "code",
   "execution_count": null,
   "outputs": [],
   "source": [],
   "metadata": {
    "collapsed": false,
    "pycharm": {
     "name": "#%%\n"
    }
   }
  }
 ],
 "metadata": {
  "kernelspec": {
   "display_name": "Python 3",
   "language": "python",
   "name": "python3"
  },
  "language_info": {
   "codemirror_mode": {
    "name": "ipython",
    "version": 2
   },
   "file_extension": ".py",
   "mimetype": "text/x-python",
   "name": "python",
   "nbconvert_exporter": "python",
   "pygments_lexer": "ipython2",
   "version": "2.7.6"
  }
 },
 "nbformat": 4,
 "nbformat_minor": 0
}